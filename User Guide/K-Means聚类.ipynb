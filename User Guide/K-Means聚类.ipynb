{
 "cells": [
  {
   "cell_type": "code",
   "execution_count": 15,
   "metadata": {},
   "outputs": [
    {
     "name": "stdout",
     "output_type": "stream",
     "text": [
      "1\n"
     ]
    }
   ],
   "source": [
    "from sklearn.cluster import KMeans\n",
    "from sklearn.datasets import load_iris\n",
    "\n",
    "if __name__ == '__main__':\n",
    "    X,y = load_iris(return_X_y=True)\n",
    "    # 聚类为3类\n",
    "    km = KMeans(n_clusters=3,init='k-means++',max_iter=10000)\n",
    "    label = km.fit_predict(X)\n",
    "#     # 验证准确率\n",
    "#     error_cnt = 0\n",
    "#     sum_cnt = 0\n",
    "#     for i in range(len(label)):\n",
    "#         if(y[i]!=label[i]):\n",
    "#             error_cnt = error_cnt+1\n",
    "#         sum_cnt = sum_cnt+1\n",
    "#     print(\"error rate:%.2f\" % (error_cnt/sum_cnt))\n",
    "    print(label[9])"
   ]
  },
  {
   "cell_type": "code",
   "execution_count": 16,
   "metadata": {
    "collapsed": true
   },
   "outputs": [],
   "source": [
    "# k-means用于图像分割\n",
    "import PIL.Image as image\n",
    "def loadDta(filePath):\n",
    "    f = open(filePath,'rb')\n",
    "    data = []\n",
    "    img = image.open(f)\n",
    "    m,n = img.size\n",
    "    for i in range(m):\n",
    "        for j in range(n):\n",
    "            x,y,x = img.getpixel((i,j))\n",
    "            data.append([x/256.0,y/256.0,z/256.0])\n",
    "    f.close()\n",
    "    return np.mat(data),m,n"
   ]
  },
  {
   "cell_type": "code",
   "execution_count": null,
   "metadata": {
    "collapsed": true
   },
   "outputs": [],
   "source": []
  }
 ],
 "metadata": {
  "kernelspec": {
   "display_name": "Python 3",
   "language": "python",
   "name": "python3"
  },
  "language_info": {
   "codemirror_mode": {
    "name": "ipython",
    "version": 3
   },
   "file_extension": ".py",
   "mimetype": "text/x-python",
   "name": "python",
   "nbconvert_exporter": "python",
   "pygments_lexer": "ipython3",
   "version": "3.6.3"
  }
 },
 "nbformat": 4,
 "nbformat_minor": 2
}
